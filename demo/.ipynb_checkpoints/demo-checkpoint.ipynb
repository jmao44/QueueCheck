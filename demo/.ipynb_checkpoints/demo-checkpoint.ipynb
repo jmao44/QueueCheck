{
 "cells": [
  {
   "cell_type": "markdown",
   "id": "4a8fad11",
   "metadata": {},
   "source": [
    "# Real-time Wait Time Monitor for College Campus Services using Cloud-powered NoSQL Database\n",
    "\n",
    "### CS 4440 Final Project Demo from Team # 3: Jie Lyu & Junyan Mao"
   ]
  },
  {
   "cell_type": "code",
   "execution_count": null,
   "id": "e179c10e",
   "metadata": {},
   "outputs": [],
   "source": []
  }
 ],
 "metadata": {
  "kernelspec": {
   "display_name": "Python 3",
   "language": "python",
   "name": "python3"
  },
  "language_info": {
   "codemirror_mode": {
    "name": "ipython",
    "version": 3
   },
   "file_extension": ".py",
   "mimetype": "text/x-python",
   "name": "python",
   "nbconvert_exporter": "python",
   "pygments_lexer": "ipython3",
   "version": "3.6.13"
  }
 },
 "nbformat": 4,
 "nbformat_minor": 5
}
